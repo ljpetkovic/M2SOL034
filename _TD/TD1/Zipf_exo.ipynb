{
  "nbformat": 4,
  "nbformat_minor": 0,
  "metadata": {
    "colab": {
      "provenance": [],
      "authorship_tag": "ABX9TyOSfVk27ZcRahVqQYYczh7I",
      "include_colab_link": true
    },
    "kernelspec": {
      "name": "python3",
      "display_name": "Python 3"
    },
    "language_info": {
      "name": "python"
    }
  },
  "cells": [
    {
      "cell_type": "markdown",
      "metadata": {
        "id": "view-in-github",
        "colab_type": "text"
      },
      "source": [
        "<a href=\"https://colab.research.google.com/github/ljpetkovic/M2SOL034/blob/main/_TD/TD1/Zipf_exo.ipynb\" target=\"_parent\"><img src=\"https://colab.research.google.com/assets/colab-badge.svg\" alt=\"Open In Colab\"/></a>"
      ]
    },
    {
      "cell_type": "markdown",
      "source": [
        "# Implémentation pour visualiser la loi de Zipf en Python"
      ],
      "metadata": {
        "id": "bXvQJdHix-2H"
      }
    },
    {
      "cell_type": "code",
      "execution_count": null,
      "metadata": {
        "id": "tQkyfOilt6Gx"
      },
      "outputs": [],
      "source": [
        "# Librairies à utiliser\n",
        "import matplotlib.pyplot as plt\n",
        "from collections import Counter\n",
        "import re\n",
        "\n",
        "# Charger un texte depuis le fichier 'zipf.txt'\n",
        "# ...\n",
        "\n",
        "\n",
        "# Prétraitement du texte : convertir le texte en minuscules\n",
        "# ...\n",
        "\n",
        "# Compter la fréquence des mots\n",
        "# ...\n",
        "\n",
        "# Trier les mots par fréquence\n",
        "# ...\n",
        "\n",
        "# Extraire les fréquences et les rangs\n",
        "# ...\n",
        "\n",
        "# Afficher les mots avec leurs fréquences\n",
        "# ...\n",
        "\n",
        "# Tracer la loi de Zipf\n",
        "# ..."
      ]
    }
  ]
}