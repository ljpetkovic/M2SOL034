{
  "nbformat": 4,
  "nbformat_minor": 0,
  "metadata": {
    "colab": {
      "provenance": []
    },
    "kernelspec": {
      "name": "python3",
      "display_name": "Python 3"
    },
    "language_info": {
      "name": "python"
    }
  },
  "cells": [
    {
      "cell_type": "markdown",
      "source": [
        "# Implémentation pour visualiser la loi de Zipf en Python.\n",
        "\n",
        "Code adapté de [Rherrad (_s.d._)](https://www.iana-data.org/fondamentaux/846-loi-de-zipf-et-text-mining.html)."
      ],
      "metadata": {
        "id": "bXvQJdHix-2H"
      }
    },
    {
      "cell_type": "code",
      "execution_count": null,
      "metadata": {
        "id": "tQkyfOilt6Gx"
      },
      "outputs": [],
      "source": [
        "# Librairie à utiliser\n",
        "import matplotlib.pyplot as plt\n",
        "from collections import Counter\n",
        "import re\n",
        "\n",
        "# Charger un texte depuis le fichier 'zipf.txt'\n",
        "# ...\n",
        "\n",
        "\n",
        "# Prétraitement du texte : lettres en minuscules\n",
        "# ...\n",
        "\n",
        "# Compter la fréquence des mots\n",
        "# ...\n",
        "\n",
        "# Trier les mots par fréquence\n",
        "# ...\n",
        "\n",
        "# Extraire les fréquences et les rangs\n",
        "# ...\n",
        "\n",
        "# Afficher les mots avec leurs fréquences\n",
        "# ...\n",
        "\n",
        "# Tracer la loi de Zipf\n",
        "# ..."
      ]
    },
    {
      "cell_type": "code",
      "source": [],
      "metadata": {
        "id": "FNc0O3OvuAj6"
      },
      "execution_count": null,
      "outputs": []
    }
  ]
}