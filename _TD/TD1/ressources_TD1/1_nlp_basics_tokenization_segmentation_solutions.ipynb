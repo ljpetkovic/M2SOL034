{
  "nbformat": 4,
  "nbformat_minor": 0,
  "metadata": {
    "colab": {
      "name": "1_nlp_basics_tokenization_segmentation.ipynb",
      "provenance": []
    },
    "kernelspec": {
      "name": "python3",
      "display_name": "Python 3"
    }
  },
  "cells": [
    {
      "cell_type": "markdown",
      "metadata": {
        "id": "H7gQFbUxOQtb"
      },
      "source": [
        "# Fundamentals of NLP (Chapter 1): Tokenization, Lemmatization, Stemming, and Sentence Segmentation\n",
        "\n",
        "**Author:** Elvis Saravia ( [Twitter](https://twitter.com/omarsar0) | [LinkedIn](https://www.linkedin.com/in/omarsar/))\n",
        "\n",
        "![alt text](https://drive.google.com/uc?export=view&id=1cCumIkBf0sax3DGjLw9-eVxvSvn01jnQ)\n",
        "\n",
        "\n",
        "Natural language processing (NLP) has made substantial advances in the past few years due to the success of [modern techniques](https://nlpoverview.com/) that are based on [deep learning](https://en.wikipedia.org/wiki/Deep_learning). With the rise of the popularity of NLP and the availability of different forms of large-scale data, it is now even more imperative to understand the inner workings of NLP techniques and concepts, from first principles, as they find their way into real-world usage and applications that affect society at large. Building intuitions and having a solid grasp of concepts are both important for coming up with innovative techniques, improving research, and building safe, human-centered AI and NLP technologies.\n",
        "\n",
        "In this first chapter, which is part of a series called **Fundamentals of NLP**, we will learn about some of the most important **basic concepts** that power NLP techniques used for research and building real-world applications. Some of these techniques include *lemmatization*, *stemming*, *tokenization*, and *sentence segmentation*. These are all important techniques to train efficient and effective NLP models. Along the way, we will also cover best practices and common mistakes to avoid when training and building NLP models. We also provide some exercises for you to keep practicing and exploring some ideas.\n",
        "\n",
        "\n",
        "In every chapter, we will introduce the theoretical aspect and motivation of each concept covered. Then we will obtain hands-on experience by using bootstrap methods, industry-standard tools, and other open-source libraries to implement the different techniques. Along the way, we will also cover best practices, share important references, point out common mistakes to avoid when training and building NLP models, and discuss what lies ahead.\n",
        "\n",
        "---"
      ]
    },
    {
      "cell_type": "markdown",
      "metadata": {
        "id": "Xy7qsKcOFaH2"
      },
      "source": [
        "## Tokenization\n",
        "\n",
        "![alt text](https://drive.google.com/uc?export=view&id=1h0ZNzohff1nUWMerrW50eDxY99ArRJTK)\n",
        "\n",
        "With any typical NLP task, one of the first steps is to tokenize your pieces of text into its individual words/tokens (process demonstrated in the figure above), the result of which is used to create so-called vocabularies that will be used in the langauge model you plan to build. This is actually one of the techniques that we will use the most throughout this series but here we stick to the basics.\n",
        "\n",
        "Below I am showing you an example of a simple tokenizer without any following any standards. All it does is extract tokens based on a white space seperator.\n",
        "\n",
        "Try to running the following code blocks."
      ]
    },
    {
      "cell_type": "code",
      "metadata": {
        "id": "Fn7xM8HKqAtf"
      },
      "source": [
        "## required libraries that need to be installed\n",
        "%%capture\n",
        "!pip install -U spacy\n",
        "!pip install -U spacy-lookups-data\n",
        "!python -m spacy download en_core_web_sm"
      ],
      "execution_count": 10,
      "outputs": []
    },
    {
      "cell_type": "code",
      "metadata": {
        "id": "vUhMRrhFGfqJ",
        "outputId": "62c90d4e-0da9-4a64-b4d4-12378315dac1",
        "colab": {
          "base_uri": "https://localhost:8080/"
        }
      },
      "source": [
        "## tokenizing a piece of text\n",
        "doc = \"I love coding and writing\"\n",
        "for i, w in enumerate(doc.split(\" \")):\n",
        "    print(\"Token \" + str(i) + \": \" + w)"
      ],
      "execution_count": 23,
      "outputs": [
        {
          "output_type": "stream",
          "name": "stdout",
          "text": [
            "Token 0: I\n",
            "Token 1: love\n",
            "Token 2: coding\n",
            "Token 3: and\n",
            "Token 4: writing\n"
          ]
        }
      ]
    },
    {
      "cell_type": "markdown",
      "metadata": {
        "id": "Med-k0CeG8Ke"
      },
      "source": [
        "All the code does is separate the sentence into individual tokens. The above simple block of code works well on the text I have provided. But typically, text is a lot noisier and complex than the example I used. For instance, if I used the word \"so-called\" is that one word or two words? For such scenarios, you may need more advanced approaches for tokenization. You can consider stripping away the \"-\" and splitting into two tokens or just combining into one token but this all depends on the problem and domain you are working on.\n",
        "\n",
        "Another problem with our simple algorithm is that it cannot deal with extra whitespaces in the text. In addition, how do we deal with cities like \"New York\" and \"San Francisco\"?\n"
      ]
    },
    {
      "cell_type": "markdown",
      "metadata": {
        "id": "z0qxNrl191NS"
      },
      "source": [
        "---\n",
        "**Exercise 1**: Copy the code from above and add extra whitespaces to the string value assigned to the `doc` variable and identify the issue with the code. Then try to fix the issue. Hint: Use `text.strip()` to fix the problem."
      ]
    },
    {
      "cell_type": "code",
      "metadata": {
        "id": "bx22yqPJQCQc",
        "colab": {
          "base_uri": "https://localhost:8080/"
        },
        "outputId": "0c65456b-f41e-43a2-de39-8819628ccf32"
      },
      "source": [
        "###  ENTER CODE HERE\n",
        "## tokenizing a piecen of text\n",
        "doc = \"  I   love  coding   and writing   \"\n",
        "doc = doc.strip()  # Remove leading and trailing spaces\n",
        "for i, w in enumerate(doc.split()):  # Split on any whitespace (handles multiple spaces)\n",
        "    print(\"Token \" + str(i) + \": \" + w)\n",
        "###"
      ],
      "execution_count": 24,
      "outputs": [
        {
          "output_type": "stream",
          "name": "stdout",
          "text": [
            "Token 0: I\n",
            "Token 1: love\n",
            "Token 2: coding\n",
            "Token 3: and\n",
            "Token 4: writing\n"
          ]
        }
      ]
    },
    {
      "cell_type": "markdown",
      "source": [
        "If `doc` contains extra leading, trailing, or multiple spaces, `split(\" \")` will create empty tokens for extra spaces.\n",
        "This can lead to unexpected behavior when iterating over the split words."
      ],
      "metadata": {
        "id": "Xe92EeJeIySH"
      }
    },
    {
      "cell_type": "markdown",
      "metadata": {
        "id": "QpYLDmLu9379"
      },
      "source": [
        "---"
      ]
    },
    {
      "cell_type": "markdown",
      "metadata": {
        "id": "kSQwXKwrQAp0"
      },
      "source": [
        "Tokenization can also come in different forms. For instance, more recently a lot of state-of-the-art NLP models such as [BERT](https://arxiv.org/pdf/1810.04805.pdf) make use of `subword` tokens in which frequent combinations of characters also form part of the vocabulary. This helps to deal with the so-called out of vocabulary (OOV) problem. We will discuss this in upcoming chapters, but if you are interested in reading more about this now, check this [paper](https://static.googleusercontent.com/media/research.google.com/en//pubs/archive/37842.pdf).\n",
        "\n",
        "To demonstrate how you can achieve more reliable tokenization, we are going to use [spaCy](https://spacy.io/), which is an impressive and robust Python library for natural language processing. In particular, we are going to use the built-in tokenizer found [here](https://spacy.io/usage/linguistic-features#sbd-custom).\n",
        "\n",
        "Run the code block below."
      ]
    },
    {
      "cell_type": "code",
      "metadata": {
        "id": "Cpinv_FjoyVx",
        "outputId": "7ed38c2b-f331-4220-c8e0-dd2b224d9df1",
        "colab": {
          "base_uri": "https://localhost:8080/"
        }
      },
      "source": [
        "## import the libraries\n",
        "import spacy\n",
        "## load the language model\n",
        "nlp = spacy.load(\"en_core_web_sm\")\n",
        "\n",
        "## tokenization\n",
        "doc = nlp(\"This is the so-called lemmatization\")\n",
        "for token in doc:\n",
        "    print(token.text)"
      ],
      "execution_count": 25,
      "outputs": [
        {
          "output_type": "stream",
          "name": "stderr",
          "text": [
            "/usr/local/lib/python3.11/dist-packages/spacy/util.py:1740: UserWarning: [W111] Jupyter notebook detected: if using `prefer_gpu()` or `require_gpu()`, include it in the same cell right before `spacy.load()` to ensure that the model is loaded on the correct device. More information: http://spacy.io/usage/v3#jupyter-notebook-gpu\n",
            "  warnings.warn(Warnings.W111)\n"
          ]
        },
        {
          "output_type": "stream",
          "name": "stdout",
          "text": [
            "This\n",
            "is\n",
            "the\n",
            "so\n",
            "-\n",
            "called\n",
            "lemmatization\n"
          ]
        }
      ]
    },
    {
      "cell_type": "markdown",
      "metadata": {
        "id": "Zl6JG5yirhn0"
      },
      "source": [
        "All the code does is tokenize the text based on a pre-built language model.\n",
        "\n",
        "Try putting different running text into the `nlp()` part of the code above. The tokenizer is quiet robust and it includes a series of built-in rules that deal with exceptions and special cases such as those tokens that contain puctuations like \"`\" and \".\", \"-\", etc. You can even add your own rules, find out how [here](https://spacy.io/usage/linguistic-features#special-cases).\n",
        "\n",
        "In a later chapter of the series, we will do a deep dive on tokenization and the different tools that exist out there that can simplify and speed up the process of tokenization to build vocabularies. Some of the tools we will explore are the [Keras Tokenizer API](https://www.tensorflow.org/api_docs/python/tf/keras/preprocessing/text/Tokenizer) and [Hugging Face Tokenizer](https://github.com/huggingface/tokenizers).  \n",
        "\n",
        "---"
      ]
    },
    {
      "cell_type": "markdown",
      "metadata": {
        "id": "Z-F16mbBkVXF"
      },
      "source": [
        "## Lemmatization\n",
        "\n",
        "![alt text](https://drive.google.com/uc?export=view&id=1_-wxBOU_JebjdG1sxoobKYRCtX3dVF0L)\n",
        "\n",
        "[Lemmatization](https://en.wikipedia.org/wiki/Lemmatisation) is the process where we take individual tokens from a sentence and we try to reduce them to their *base* form. The process that makes this possible is having a vocabulary and performing morphological analysis to remove inflectional endings. The output of the lemmatization process (as shown in the figure above) is the *lemma* or the base form of the word. For instance, a lemmatization process reduces the inflections, \"am\", \"are\", and \"is\", to the base form, \"be\". Take a look at the figure above for a full example and try to understand what it's doing.\n",
        "\n",
        "Lemmatization is helpful for normalizing text for text classification tasks or search engines, and a variety of other NLP tasks such as [sentiment classification](https://en.wikipedia.org/wiki/Sentiment_analysis). It is particularly important when dealing with complex languages like Arabic and Spanish.\n",
        "\n",
        "To show how you can achieve lemmatization and how it works, we are going to use [spaCy](https://spacy.io/) again. Using the spaCy [Lemmatizer](https://spacy.io/api/lemmatizer#_title) class, we are going to convert a few words into their lemmas.\n",
        "\n",
        "Below I show an example of how to lemmatize a sentence using spaCy. Try to run the block of code below and inspect the results."
      ]
    },
    {
      "cell_type": "code",
      "metadata": {
        "id": "i5QgWANL3JbD",
        "outputId": "ad243c87-c550-4bca-f6e8-b805358d04df",
        "colab": {
          "base_uri": "https://localhost:8080/"
        }
      },
      "source": [
        "## import the libraries\n",
        "#from spacy.lemmatizer import Lemmatizer # obsolete in spaCy v3\n",
        "from spacy.lookups import Lookups\n",
        "\n",
        "## lemmatization\n",
        "doc = nlp(u'I love coding and writing')\n",
        "for word in doc:\n",
        "    print(word.text, \"=>\", word.lemma_)"
      ],
      "execution_count": 26,
      "outputs": [
        {
          "output_type": "stream",
          "name": "stdout",
          "text": [
            "I => I\n",
            "love => love\n",
            "coding => code\n",
            "and => and\n",
            "writing => write\n"
          ]
        }
      ]
    },
    {
      "cell_type": "markdown",
      "metadata": {
        "id": "lgDcWgMvOFqA"
      },
      "source": [
        "The results above look as expected. The only lemma that looks off is the `-PRON-` returned for the \"I\" token. According to the spaCy documentation, \"*This is in fact expected behavior and not a bug. Unlike verbs and common nouns, there’s no clear base form of a personal pronoun. Should the lemma of “me” be “I”, or should we normalize person as well, giving “it” — or maybe “he”? spaCy’s solution is to introduce a novel symbol, -PRON-, which is used as the lemma for all personal pronouns.*\"\n",
        "\n",
        "Check out more about this in the [spaCy documentation](https://spacy.io/api/annotation#lemmatization)."
      ]
    },
    {
      "cell_type": "markdown",
      "metadata": {
        "id": "Zc6wkiW-ANT6"
      },
      "source": [
        "---"
      ]
    },
    {
      "cell_type": "markdown",
      "metadata": {
        "id": "mUB3wRFhkczV"
      },
      "source": [
        "**Exercise 2:** Try the code above with different sentences and see if you get any unexpected results. Also, try adding punctuations and extra whitespaces which are more common in natural language. What happens?"
      ]
    },
    {
      "cell_type": "code",
      "metadata": {
        "id": "cnfPOGgYkr3h",
        "colab": {
          "base_uri": "https://localhost:8080/"
        },
        "outputId": "222ce6c4-0cc2-427d-d391-325cdf071587"
      },
      "source": [
        "### ENTER CODE HERE\n",
        "## import the libraries\n",
        "#from spacy.lemmatizer import Lemmatizer # obsolete in spaCy v3\n",
        "from spacy.lookups import Lookups\n",
        "\n",
        "## lemmatization\n",
        "doc = nlp(u'I love coding, and writing')\n",
        "for word in doc:\n",
        "    print(word.text, \"=>\", word.lemma_)\n",
        "###"
      ],
      "execution_count": 27,
      "outputs": [
        {
          "output_type": "stream",
          "name": "stdout",
          "text": [
            "I => I\n",
            "love => love\n",
            "coding => coding\n",
            ", => ,\n",
            "and => and\n",
            "writing => write\n"
          ]
        }
      ]
    },
    {
      "cell_type": "markdown",
      "source": [
        "Punctuation is treated as a separate token.\n",
        "The lemmatizer doesn't modify punctuation marks."
      ],
      "metadata": {
        "id": "f9oFJ-pHIjet"
      }
    },
    {
      "cell_type": "markdown",
      "metadata": {
        "id": "ALKZxh54APho"
      },
      "source": [
        "---"
      ]
    },
    {
      "cell_type": "markdown",
      "metadata": {
        "id": "cOdA8GxMta7N"
      },
      "source": [
        "We can also create our own custom lemmatizer as shown below (*code adopted directly from the spaCy website*):\n",
        "\n"
      ]
    },
    {
      "cell_type": "code",
      "metadata": {
        "id": "xwtdub8er-sU",
        "outputId": "578ea67d-e74e-4217-958c-adb344419c2c",
        "colab": {
          "base_uri": "https://localhost:8080/"
        }
      },
      "source": [
        "## lookup tables\n",
        "lookups = Lookups()\n",
        "lookups.add_table(\"lemma_rules\", {\"noun\": [[\"s\", \"\"]]})\n",
        "#lemmatizer = Lemmatizer(lookups)\n",
        "\n",
        "words_to_lemmatize = [\"cats\", \"brings\", \"sings\"]\n",
        "\n",
        "for w in words_to_lemmatize:\n",
        "    doc = nlp(w)\n",
        "    for token in doc:\n",
        "        print(token.text, \"=>\", token.lemma_)\n"
      ],
      "execution_count": 28,
      "outputs": [
        {
          "output_type": "stream",
          "name": "stdout",
          "text": [
            "cats => cat\n",
            "brings => bring\n",
            "sings => sing\n"
          ]
        }
      ]
    },
    {
      "cell_type": "markdown",
      "metadata": {
        "id": "NNYYuCC3GqPG"
      },
      "source": [
        "In the example code above, we added one *lemma rule*, which aims to identify plural nouns and remove the plurality, i.e. remove the \"s\". There are different types of rules you can add here. I encourage you to head over to the [spaCy documentation](https://spacy.io/api/lemmatizer) to learn a bit more."
      ]
    },
    {
      "cell_type": "markdown",
      "metadata": {
        "id": "ZzL2K-sU-e3M"
      },
      "source": [
        "---"
      ]
    },
    {
      "cell_type": "markdown",
      "metadata": {
        "id": "dcaLqxPX5CJa"
      },
      "source": [
        "## Stemming\n",
        "\n",
        "![alt text](https://drive.google.com/uc?export=view&id=1XcK3OzdPd2ywO8Y4G6vfjuIFthPce3FH)\n",
        "\n",
        "Stemming is just a simpler version of lemmatization where we are interested in stripping the *suffix* at the end of the word. When stemming we are interesting in reducing the *inflected* or *derived* word to it's base form. Take a look at the figure above to get some intuition about the process.\n",
        "\n",
        "Both the stemming and the lemmatization processes involve [*morphological analysis*](https://en.wikipedia.org/wiki/Morphology_(linguistics)) where the stems and affixes (called the *morphemes*) are extracted and used to reduce inflections to their base form. For instance, the word *cats* has two morphemes, *cat* and *s*, the *cat* being the stem and the *s* being the affix representing plurality.\n",
        "\n",
        "spaCy doesn't support stemming so for this part we are going to use [NLTK](https://www.nltk.org/), which is another fantastic Python NLP library.\n",
        "\n",
        "The simple example below demonstrates how you can stem words in a piece of text. Go ahead and run the code to see what happens."
      ]
    },
    {
      "cell_type": "code",
      "metadata": {
        "id": "0lVd74BE5BXK",
        "outputId": "453e3ae5-5510-4b0a-f919-2e6cba1c1a7c",
        "colab": {
          "base_uri": "https://localhost:8080/"
        }
      },
      "source": [
        "from nltk.stem.snowball import SnowballStemmer\n",
        "\n",
        "stemmer = SnowballStemmer(language='english')\n",
        "doc = 'I prefer not to argue'\n",
        "for token in doc.split(\" \"):\n",
        "    print(token, '=>' , stemmer.stem(token))"
      ],
      "execution_count": 29,
      "outputs": [
        {
          "output_type": "stream",
          "name": "stdout",
          "text": [
            "I => i\n",
            "prefer => prefer\n",
            "not => not\n",
            "to => to\n",
            "argue => argu\n"
          ]
        }
      ]
    },
    {
      "cell_type": "markdown",
      "metadata": {
        "id": "pdbxwdMw8AAD"
      },
      "source": [
        "Notice how the stemmed version of the word \"argue\" is \"argu\". That's because we can have derived words like \"argument\", \"arguing\", and \"argued\"."
      ]
    },
    {
      "cell_type": "markdown",
      "metadata": {
        "id": "RBG0l7CsBhAz"
      },
      "source": [
        "---"
      ]
    },
    {
      "cell_type": "markdown",
      "metadata": {
        "id": "Fa5xGWDVBild"
      },
      "source": [
        "**Exercise 3:** Try to use different sentences in the code above and observe the effect of the stemmer. By the way, there are other stemmers such as the Porter stemmer in the NLTK library. Each stemmer behaves differently so the output may vary. Feel free to try the [Porter stemmer](https://www.nltk.org/howto/stem.html) from the NLTK library and inspect the output of the different stemmers."
      ]
    },
    {
      "cell_type": "code",
      "metadata": {
        "id": "Vow0MVZxmQQq",
        "colab": {
          "base_uri": "https://localhost:8080/"
        },
        "outputId": "52fc5762-918a-4c49-ed0c-103c4e66f54d"
      },
      "source": [
        "###  ENTER CODE HERE\n",
        "from nltk.stem.snowball import SnowballStemmer\n",
        "\n",
        "# Initialize the Snowball Stemmer\n",
        "stemmer = SnowballStemmer(language='english')\n",
        "\n",
        "# Test different sentences\n",
        "sentences = [\n",
        "    \"I prefer not to argue\",\n",
        "    \"Running, jumping, and swimming are great exercises\",\n",
        "    \"The children are playing in the garden\",\n",
        "    \"He studies different programming languages\",\n",
        "    \"Automating tasks is beneficial\"\n",
        "]\n",
        "\n",
        "# Apply stemming\n",
        "for sentence in sentences:\n",
        "    print(\"\\nOriginal Sentence:\", sentence)\n",
        "    for token in sentence.split(\" \"):  # Simple tokenization (splitting by space)\n",
        "        print(token, \"=>\", stemmer.stem(token))\n",
        "\n",
        "###"
      ],
      "execution_count": 30,
      "outputs": [
        {
          "output_type": "stream",
          "name": "stdout",
          "text": [
            "\n",
            "Original Sentence: I prefer not to argue\n",
            "I => i\n",
            "prefer => prefer\n",
            "not => not\n",
            "to => to\n",
            "argue => argu\n",
            "\n",
            "Original Sentence: Running, jumping, and swimming are great exercises\n",
            "Running, => running,\n",
            "jumping, => jumping,\n",
            "and => and\n",
            "swimming => swim\n",
            "are => are\n",
            "great => great\n",
            "exercises => exercis\n",
            "\n",
            "Original Sentence: The children are playing in the garden\n",
            "The => the\n",
            "children => children\n",
            "are => are\n",
            "playing => play\n",
            "in => in\n",
            "the => the\n",
            "garden => garden\n",
            "\n",
            "Original Sentence: He studies different programming languages\n",
            "He => he\n",
            "studies => studi\n",
            "different => differ\n",
            "programming => program\n",
            "languages => languag\n",
            "\n",
            "Original Sentence: Automating tasks is beneficial\n",
            "Automating => autom\n",
            "tasks => task\n",
            "is => is\n",
            "beneficial => benefici\n"
          ]
        }
      ]
    },
    {
      "cell_type": "code",
      "source": [
        "from nltk.stem import PorterStemmer\n",
        "\n",
        "# Initialize Porter Stemmer\n",
        "porter_stemmer = PorterStemmer()\n",
        "\n",
        "# Apply Porter stemming\n",
        "for sentence in sentences:\n",
        "    print(\"\\nOriginal Sentence:\", sentence)\n",
        "    for token in sentence.split(\" \"):\n",
        "        print(token, \"=>\", porter_stemmer.stem(token))"
      ],
      "metadata": {
        "id": "kXIq7qBaIAT8",
        "outputId": "2ecf8bb8-a96f-489f-f2bf-3757a1c69f17",
        "colab": {
          "base_uri": "https://localhost:8080/"
        }
      },
      "execution_count": 31,
      "outputs": [
        {
          "output_type": "stream",
          "name": "stdout",
          "text": [
            "\n",
            "Original Sentence: I prefer not to argue\n",
            "I => i\n",
            "prefer => prefer\n",
            "not => not\n",
            "to => to\n",
            "argue => argu\n",
            "\n",
            "Original Sentence: Running, jumping, and swimming are great exercises\n",
            "Running, => running,\n",
            "jumping, => jumping,\n",
            "and => and\n",
            "swimming => swim\n",
            "are => are\n",
            "great => great\n",
            "exercises => exercis\n",
            "\n",
            "Original Sentence: The children are playing in the garden\n",
            "The => the\n",
            "children => children\n",
            "are => are\n",
            "playing => play\n",
            "in => in\n",
            "the => the\n",
            "garden => garden\n",
            "\n",
            "Original Sentence: He studies different programming languages\n",
            "He => he\n",
            "studies => studi\n",
            "different => differ\n",
            "programming => program\n",
            "languages => languag\n",
            "\n",
            "Original Sentence: Automating tasks is beneficial\n",
            "Automating => autom\n",
            "tasks => task\n",
            "is => is\n",
            "beneficial => benefici\n"
          ]
        }
      ]
    },
    {
      "cell_type": "markdown",
      "source": [
        "* The Snowball Stemmer is more aggressive in stemming than the Porter Stemmer.\n",
        "* The Porter Stemmer sometimes produces shorter stems than Snowball.\n",
        "* Both stemmers might truncate words differently, sometimes leading to loss of meaning.\n",
        "\n",
        "Different stemmers behave differently. The choice depends on the application—Snowball is usually better for NLP tasks\n",
        "as it is newer and more refined than Porter."
      ],
      "metadata": {
        "id": "VtYzBTCMIMuH"
      }
    },
    {
      "cell_type": "markdown",
      "metadata": {
        "id": "zIqegtJUjJeL"
      },
      "source": [
        "---"
      ]
    },
    {
      "cell_type": "markdown",
      "metadata": {
        "id": "KjOkmpOn9QGL"
      },
      "source": [
        "## Sentence Segmentation\n",
        "\n",
        "![alt text](https://drive.google.com/uc?export=view&id=1aeHpGNWdnA_VdP0VAu7sO1OGW2eusgHH)\n",
        "\n",
        "When dealing with text, it is always common that we need to break up text into its individual sentences. That is what is known as sentence segmentation: the process of obtaining the individual sentences from a text corpus. The resulting segments can then be analyzed individually with the techniques that we previously learned.\n",
        "\n",
        "In the spaCy library, we have the choice to use a built-in sentence segmenter (trained on statistical models) or build your own rule-based method. In fact, we will cover a few examples to demonstrate the difficultiness of this problem."
      ]
    },
    {
      "cell_type": "markdown",
      "metadata": {
        "id": "za0nOPqPAlph"
      },
      "source": [
        "Below I created a naive implementation of a sentence segmentation algorithm without using any kind of special library. You can see that my code increases with complexity (bugs included) as I start to consider more rules. This sort of boostrapped or rule-based approach is sometimes your only option depending on the language you are working with or the availability of linguistic resources.\n",
        "\n",
        "Run the code below to apply a simple algorithm for sentence segmentation."
      ]
    },
    {
      "cell_type": "code",
      "metadata": {
        "id": "sJc-bB8E9PVg",
        "outputId": "33557238-3132-4706-db53-42ef29d5c0fb",
        "colab": {
          "base_uri": "https://localhost:8080/"
        }
      },
      "source": [
        "## using a simple rule-based segmenter with native python code\n",
        "text = \"I love coding and programming. I also love sleeping!\"\n",
        "\n",
        "current_position = 0\n",
        "cursor = 0\n",
        "sentences = []\n",
        "for c in text:\n",
        "    if c == \".\" or c == \"!\":\n",
        "        sentences.append(text[current_position:cursor+1])\n",
        "        current_position = cursor + 2\n",
        "    cursor+=1\n",
        "\n",
        "print(sentences)"
      ],
      "execution_count": 32,
      "outputs": [
        {
          "output_type": "stream",
          "name": "stdout",
          "text": [
            "['I love coding and programming.', 'I also love sleeping!']\n"
          ]
        }
      ]
    },
    {
      "cell_type": "markdown",
      "metadata": {
        "id": "dNyddCAMmnv6"
      },
      "source": [
        "Our sentence segmenter only segments sentences when it meets a sentence boundary which in this case is either a \".\" or a \"!\". It's not the cleanest of code but it shows how difficult the task can get as we are presented with richer text that include more diverse special characters. One problem with my code is that I am not able to differentiate between abbreviations like Dr. and numbers like 0.4. You may be able to create your own complex regular expression (we will get into this in the second chapter) to deal with these special cases but it still requires a lot of work and debugging. Luckily for us, there are libraries like spaCy and NLTK which help with this sort of preprocessing tasks.\n",
        "\n",
        "Let's try the sentence segmentation provided by spaCy. Run the code below and inspect the results."
      ]
    },
    {
      "cell_type": "code",
      "metadata": {
        "id": "3_M1vypFBj8Y",
        "outputId": "97c9fc71-937d-4334-9b49-9610b8da1572",
        "colab": {
          "base_uri": "https://localhost:8080/"
        }
      },
      "source": [
        "doc = nlp(\"I love coding and programming. I also love sleeping!\")\n",
        "for sent in doc.sents:\n",
        "    print(sent.text)"
      ],
      "execution_count": 33,
      "outputs": [
        {
          "output_type": "stream",
          "name": "stdout",
          "text": [
            "I love coding and programming.\n",
            "I also love sleeping!\n"
          ]
        }
      ]
    },
    {
      "cell_type": "markdown",
      "metadata": {
        "id": "WWcJ6EsVEGQU"
      },
      "source": [
        "Here is a [link](https://spacy.io/usage/linguistic-features#sbd-custom) showing how you can create your own rule-based strategy for sentence segmentation using spaCy. This is particulary useful if you are working with domain-specific text which is full with noisy information and is not as standardized as text found on a factual Wiki page or news website."
      ]
    },
    {
      "cell_type": "markdown",
      "metadata": {
        "id": "gImYrbxqHtGR"
      },
      "source": [
        "---"
      ]
    },
    {
      "cell_type": "markdown",
      "metadata": {
        "id": "k-lomu0YHvBv"
      },
      "source": [
        "**Exercise 4:** For practice, try to create your own sentence segmentation algorithm using spaCy (try this [link](https://spacy.io/usage/linguistic-features#sbd-custom) for help and ideas). At this point, I am encouraging you to look at documentation which is a huge part of learning in-depth about all the concepts we will cover in this series. Research is a huge part of the learning process."
      ]
    },
    {
      "cell_type": "code",
      "metadata": {
        "id": "_Wys2htLnZYC"
      },
      "source": [
        "###  ENTER CODE HERE\n",
        "\n",
        "###"
      ],
      "execution_count": null,
      "outputs": []
    },
    {
      "cell_type": "markdown",
      "metadata": {
        "id": "fTVD0ls4HzVu"
      },
      "source": [
        "---"
      ]
    },
    {
      "cell_type": "markdown",
      "metadata": {
        "id": "lnboskbe96z4"
      },
      "source": [
        "## How to use with Machine Learning?\n",
        "\n",
        "When you are working with textual information, it is imperative to clean your data so as to be able to train more accurate machine learning (ML) models.\n",
        "\n",
        "One of the reasons why transformations like lemmatization and stemming are useful is for normalizing the text before you feed the output to an ML algorithm. For instance, if you are building a sentiment analysis model how can you tell the model that \"smiling\" and \"smile\" refer to the same concept? You may require stemming if you are using [TF-IDF](https://en.wikipedia.org/wiki/Tf%E2%80%93idf) features combined with a machine learning algorithm such as [Naive Bayes classifier](https://en.wikipedia.org/wiki/Naive_Bayes_classifier). As you may suspect already, this also requires a really good tokenizer to come up with the features, especially when work on noisy pieces of text that could be generated from users in a social media site.\n",
        "\n",
        "With a wide variety of NLP tasks, one of the first big steps in the NLP pipeline is to create a vocabulary that will eventually be used to determine the inputs for the model representing the features. In modern NLP techniques such as pretrained language models, you need to process a text corpus that require proper and more sophisticated sentence segmentation and tokenization as we discussed before. We will talk more about these methods in due time. For now, the basics presented here are a good start into the world of practical NLP. Spend some time reading up on all the concepts mentioned here and take notes. I will guide through the series on what are the important parts and provide you with relevant links but you can also conduct your own additional research on the side and even improve this notebook.\n",
        "\n"
      ]
    },
    {
      "cell_type": "markdown",
      "metadata": {
        "id": "34h5bTlNdVH1"
      },
      "source": [
        "## Final Words and What's Next?\n",
        "In this chapter we learned some fundamental concepts of NLP such as lemmatization, stemming, sentence segmentations, and tokenization. In the next chapter we will cover topics such as **word normalization**, **regular expressions**, **part of speech** and **edit distance**, all very important topics when working with information retrieval and NLP systems."
      ]
    },
    {
      "cell_type": "markdown",
      "metadata": {
        "id": "4-o4w9vpPHZz"
      },
      "source": [
        "## References\n",
        "- [Model Languages from spaCyu](https://spacy.io/usage/models#languages)\n",
        "- [Speech and Language Processing - Jurafsky and Martin](https://web.stanford.edu/~jurafsky/slp3/)\n",
        "- [Python for NLP: Tokenization, Stemming, and Lemmatization with SpaCy Library](https://stackabuse.com/python-for-nlp-tokenization-stemming-and-lemmatization-with-spacy-library/)\n",
        "- [Stemming](https://en.wikipedia.org/wiki/Stemming)\n",
        "- [Lemmatizer](https://spacy.io/api/lemmatizer#init)\n",
        "- [Stanford IR Book](https://nlp.stanford.edu/IR-book/html/htmledition/stemming-and-lemmatization-1.html)\n",
        "- [Linguistic Features by spaCy](https://spacy.io/usage/linguistic-features#sbd-custom)\n"
      ]
    }
  ]
}